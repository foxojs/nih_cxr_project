{
 "cells": [
  {
   "cell_type": "code",
   "execution_count": 66,
   "metadata": {},
   "outputs": [],
   "source": [
    "from datasets import load_dataset\n",
    "from tqdm import tqdm\n",
    "from datasets import Dataset\n",
    "import torch \n",
    "import matplotlib.pyplot as plt \n",
    "from torch.utils.data import DataLoader\n",
    "from torch.utils.data import Dataset\n",
    "from sklearn.model_selection import train_test_split\n",
    "import torch.nn.functional as F\n",
    "import torch.nn as nn\n",
    "import torch.optim as optim\n",
    "import tqdm\n",
    "from tqdm import trange, tqdm\n",
    "import numpy as np\n",
    "from sklearn.metrics import accuracy_score\n",
    "import pandas as pd\n",
    "from sklearn.metrics import multilabel_confusion_matrix\n",
    "import os \n",
    "import seaborn as sns\n",
    "from PIL import Image"
   ]
  },
  {
   "cell_type": "code",
   "execution_count": 67,
   "metadata": {},
   "outputs": [],
   "source": [
    "ds_train = load_dataset(\"alkzar90/NIH-Chest-X-ray-dataset\", 'image-classification', split = \"train[:500]\") \n",
    "\n",
    "# we hold back our test data to be used purely for testing, not in the context of our training loop \n",
    "ds_test = load_dataset(\"alkzar90/NIH-Chest-X-ray-dataset\", 'image-classification', split = \"test[:500]\") \n",
    "\n"
   ]
  },
  {
   "cell_type": "code",
   "execution_count": 68,
   "metadata": {},
   "outputs": [
    {
     "name": "stderr",
     "output_type": "stream",
     "text": [
      "Some weights of ViTForImageClassification were not initialized from the model checkpoint at google/vit-base-patch16-224 and are newly initialized because the shapes did not match:\n",
      "- classifier.bias: found shape torch.Size([1000]) in the checkpoint and torch.Size([15]) in the model instantiated\n",
      "- classifier.weight: found shape torch.Size([1000, 768]) in the checkpoint and torch.Size([15, 768]) in the model instantiated\n",
      "You should probably TRAIN this model on a down-stream task to be able to use it for predictions and inference.\n"
     ]
    },
    {
     "data": {
      "text/plain": [
       "ViTForImageClassification(\n",
       "  (vit): ViTModel(\n",
       "    (embeddings): ViTEmbeddings(\n",
       "      (patch_embeddings): ViTPatchEmbeddings(\n",
       "        (projection): Conv2d(3, 768, kernel_size=(16, 16), stride=(16, 16))\n",
       "      )\n",
       "      (dropout): Dropout(p=0.0, inplace=False)\n",
       "    )\n",
       "    (encoder): ViTEncoder(\n",
       "      (layer): ModuleList(\n",
       "        (0-11): 12 x ViTLayer(\n",
       "          (attention): ViTSdpaAttention(\n",
       "            (attention): ViTSdpaSelfAttention(\n",
       "              (query): Linear(in_features=768, out_features=768, bias=True)\n",
       "              (key): Linear(in_features=768, out_features=768, bias=True)\n",
       "              (value): Linear(in_features=768, out_features=768, bias=True)\n",
       "              (dropout): Dropout(p=0.0, inplace=False)\n",
       "            )\n",
       "            (output): ViTSelfOutput(\n",
       "              (dense): Linear(in_features=768, out_features=768, bias=True)\n",
       "              (dropout): Dropout(p=0.0, inplace=False)\n",
       "            )\n",
       "          )\n",
       "          (intermediate): ViTIntermediate(\n",
       "            (dense): Linear(in_features=768, out_features=3072, bias=True)\n",
       "            (intermediate_act_fn): GELUActivation()\n",
       "          )\n",
       "          (output): ViTOutput(\n",
       "            (dense): Linear(in_features=3072, out_features=768, bias=True)\n",
       "            (dropout): Dropout(p=0.0, inplace=False)\n",
       "          )\n",
       "          (layernorm_before): LayerNorm((768,), eps=1e-12, elementwise_affine=True)\n",
       "          (layernorm_after): LayerNorm((768,), eps=1e-12, elementwise_affine=True)\n",
       "        )\n",
       "      )\n",
       "    )\n",
       "    (layernorm): LayerNorm((768,), eps=1e-12, elementwise_affine=True)\n",
       "  )\n",
       "  (classifier): Linear(in_features=768, out_features=15, bias=True)\n",
       ")"
      ]
     },
     "execution_count": 68,
     "metadata": {},
     "output_type": "execute_result"
    }
   ],
   "source": [
    "from transformers import ViTForImageClassification\n",
    "ViTForImageClassification.from_pretrained(\"google/vit-base-patch16-224\", \n",
    "                                          num_labels=15, \n",
    "                                          ignore_mismatched_sizes=True\n",
    "                                          )\n"
   ]
  },
  {
   "cell_type": "code",
   "execution_count": 69,
   "metadata": {},
   "outputs": [],
   "source": [
    "from torch.nn import functional as F\n",
    "from torch import optim \n",
    "\n",
    "from transformers import ViTForImageClassification\n",
    "import torchmetrics \n",
    "\n",
    "import lightning as L"
   ]
  },
  {
   "cell_type": "code",
   "execution_count": 132,
   "metadata": {},
   "outputs": [],
   "source": [
    "# continue using pytorch ligthing to fine tune model as per \n",
    "\n",
    "# https://towardsdatascience.com/how-to-fine-tune-a-pretrained-vision-transformer-on-satellite-data-d0ddd8359596/#:~:text=Under%20the%20hood%2C%20the%20trainer,is%20completed%20within%20few%20epochs.\n",
    "\n",
    "\n",
    "class VisionTransformerPretrained(L.LightningModule): \n",
    "    '''wrapper for the pretrained vision transformers'''\n",
    "\n",
    "    def __init__(self, model = \"google/vit-base-patch16-224\", num_classes = 15, learning_rate = 1e-4):\n",
    "\n",
    "        super().__init__()\n",
    "        self.learning_rate = learning_rate \n",
    "        self.num_classes = num_classes\n",
    "        backbone = ViTForImageClassification.from_pretrained(model, \n",
    "                                                             num_labels = num_classes, \n",
    "                                                             ignore_mismatched_sizes=True)\n",
    "        \n",
    "        self.backbone = backbone \n",
    "\n",
    "        self.loss_fn = nn.BCEWithLogitsLoss() # adjusted for our task of multilabel \n",
    "\n",
    "        #metrics \n",
    "\n",
    "        self.acc = torchmetrics.Accuracy(\"multilabel\", num_labels=num_classes, threshold = 0.5)\n",
    "\n",
    "        self.f1 = torchmetrics.F1Score(task=\"multilabel\", num_labels=num_classes, average=None)  # Per-label F1\n",
    "        self.precision = torchmetrics.Precision(task=\"multilabel\", num_labels=num_classes, average=None)\n",
    "        self.recall = torchmetrics.Recall(task=\"multilabel\", num_labels=num_classes, average=None)\n",
    "        self.accuracy = torchmetrics.Accuracy(task=\"multilabel\", num_labels=num_classes, average=None)\n",
    "\n",
    "\n",
    "\n",
    "    def forward(self, x): \n",
    "        return self.backbone(x).logits\n",
    "    \n",
    "    def step(self, batch, stage = \"train\"):\n",
    "        '''Any step proccesses to return loss and predictions'''\n",
    "\n",
    "        x, y = batch \n",
    "\n",
    "        logits = self.forward(x)\n",
    "        y_hat = (torch.sigmoid(logits)>0.5).float() # we need to \n",
    "\n",
    "        loss = self.loss_fn(logits, y.float())\n",
    "        acc = self.acc(y_hat, y)\n",
    "\n",
    "        return loss, acc, y_hat, y\n",
    "    \n",
    "    def training_step(self, batch, batch_idx): \n",
    "        loss, acc, y_hat, y = self.step(batch)\n",
    "\n",
    "        self.log(\"train_loss\", loss)\n",
    "\n",
    "        return loss \n",
    "    \n",
    "    def validation_step(self, batch, batch_idx): \n",
    "        loss, acc, y_hat, y = self.step(batch)\n",
    "\n",
    "        self.log(\"valid_acc\", acc, on_epoch = True, on_step = False)\n",
    "\n",
    "    def configure_optimizers(self):\n",
    "        optimizer = optim.Adam(self.parameters(), lr = 1e-4)\n",
    "        return optimizer \n",
    "\n",
    "    def test_step(self, batch, batch_idx): \n",
    "        '''computes per label f1, precision, recall, accuracy'''\n",
    "\n",
    "        x, y = batch \n",
    "        logits = self.backbone(x).logits\n",
    "        y_hat = (torch.sigmoid(logits) > 0.5).float()\n",
    "\n",
    "        f1 = self.f1(y_hat, y)\n",
    "        precision = self.precision(y_hat, y)\n",
    "        recall = self.recall(y_hat, y)\n",
    "        accuracy = self.accuracy(y_hat, y)\n",
    "\n",
    "        for i in range(self.num_classes):\n",
    "            self.log(f\"test_f1_label_{i}\", f1[i], on_epoch=True, logger=True)\n",
    "            self.log(f\"test_precision_label_{i}\", precision[i], on_epoch=True, logger=True)\n",
    "            self.log(f\"test_recall_label_{i}\", recall[i], on_epoch=True, logger=True)\n",
    "            self.log(f\"test_accuracy_label_{i}\", accuracy[i], on_epoch=True, logger=True)\n",
    "\n",
    "        return {\"f1\": f1, \"precision\": precision, \"recall\": recall, \"accuracy\": accuracy}\n"
   ]
  },
  {
   "cell_type": "code",
   "execution_count": 133,
   "metadata": {},
   "outputs": [],
   "source": [
    "class HuggingFaceCXR(Dataset):\n",
    "    \"\"\"\n",
    "    Custom PyTorch Dataset wrapper for Hugging Face datasets.\n",
    "    Converts dataset samples into a PyTorch-compatible format.\n",
    "    \"\"\"\n",
    "    def __init__(self, hf_dataset, image_size, num_classes=15, transform=None):\n",
    "        self.dataset = hf_dataset.with_format(\"torch\")  # Ensure dataset is in torch format\n",
    "        self.image_size = image_size\n",
    "        self.num_classes = num_classes\n",
    "        self.transform = transform\n",
    "\n",
    "    def __len__(self):\n",
    "        return len(self.dataset)\n",
    "\n",
    "    def __getitem__(self, idx):\n",
    "        item = self.dataset[idx]\n",
    "\n",
    "        # Load image\n",
    "        image = item[\"image\"]  # Ensure this matches your dataset keys\n",
    "\n",
    "        # Resize image\n",
    "        image = F.interpolate(image.unsqueeze(0), size = self.image_size, mode = \"bilinear\").squeeze(0)\n",
    "\n",
    "        # Handle 4-channel (RGBA) images: Keep only RGB\n",
    "        if image.shape[0] == 4:\n",
    "            image = image[:3, :, :]\n",
    "\n",
    "        # Handle Grayscale (1-channel) images: Convert to 3-channel\n",
    "        if image.shape[0] == 1:\n",
    "            image = image.repeat(3, 1, 1)\n",
    "\n",
    "        # Normalize pixel values to [0,1]\n",
    "        image = image / 255.0\n",
    "\n",
    "        # Convert labels to one-hot encoding\n",
    "        labels = item[\"labels\"]\n",
    "        one_hot = torch.zeros(self.num_classes, dtype=torch.float32)\n",
    "        one_hot[labels] = 1  # Set corresponding indices to 1\n",
    "\n",
    "        # Apply optional transformations\n",
    "        if self.transform:\n",
    "            image = self.transform(image)\n",
    "\n",
    "        return image, one_hot"
   ]
  },
  {
   "cell_type": "code",
   "execution_count": 134,
   "metadata": {},
   "outputs": [],
   "source": [
    "import torch\n",
    "import numpy as np\n",
    "\n",
    "from sklearn.model_selection import train_test_split\n",
    "\n",
    "from torchvision.datasets import ImageFolder\n",
    "from torchvision.transforms import v2\n",
    "\n",
    "import lightning as L\n",
    "from torch.utils.data import DataLoader, Subset\n",
    "\n",
    "class nih_cxr_datamodule(L.LightningDataModule):\n",
    "    '''Lightning data module for the cxr dataset'''\n",
    "\n",
    "    def __init__(self, batch_size, data_root=\"alkzar90/NIH-Chest-X-ray-dataset\"): \n",
    "        super().__init__()\n",
    "        self.data_root = data_root\n",
    "        self.batch_size = batch_size \n",
    "        self.num_classes = 15\n",
    "\n",
    "    def setup(self, stage = None):\n",
    "        '''set up the dataset, train/valid/test all at once'''\n",
    "\n",
    "        transforms = v2.Compose([v2.ToImage(),\n",
    "                                 v2.Resize(size=(224,224), interpolation=2),\n",
    "                                 v2.Grayscale(num_output_channels=3), # need to ensure 3 channel grayscale for vit \n",
    "                                 v2.ToDtype(torch.float32, scale=True),\n",
    "                                 v2.Normalize(mean=[0.5, 0.5, 0.5], std=[0.5, 0.5, 0.5])\n",
    "                                ])\n",
    "        \n",
    "        ds_train = load_dataset(self.data_root, 'image-classification', split = \"train[:500]\")\n",
    "\n",
    "        train_valid_split = ds_train.train_test_split(test_size = 0.2)\n",
    "\n",
    "        ds_train = train_valid_split['train']\n",
    "        ds_valid = train_valid_split['test']\n",
    "\n",
    " \n",
    "        ds_test = load_dataset(self.data_root, 'image-classification', split = \"test[:500]\") \n",
    "\n",
    "        self.train_data = HuggingFaceCXR(ds_train, image_size = (224, 224), transform = transforms)\n",
    "        self.valid_data = HuggingFaceCXR(ds_valid, image_size = (224, 224), transform = transforms)\n",
    "        self.test_data = HuggingFaceCXR(ds_test, image_size = (224, 224), transform = transforms)\n",
    "\n",
    "\n",
    "    def train_dataloader(self): \n",
    "        return DataLoader(self.train_data, batch_size = self.batch_size, shuffle = True)\n",
    "    \n",
    "    def valid_dataloader(self): \n",
    "        return DataLoader(dataset = self.valid_data, batch_size = self.batch_size, shuffle = False)\n",
    "    \n",
    "    def test_dataloader(self):\n",
    "        return DataLoader(self.test_data, batch_size = self.batch_size, shuffle = False)\n",
    "        "
   ]
  },
  {
   "cell_type": "code",
   "execution_count": null,
   "metadata": {},
   "outputs": [],
   "source": [
    "\n",
    "import lightning as L\n",
    "from lightning.pytorch.callbacks.early_stopping import EarlyStopping\n",
    "from lightning.pytorch.loggers import CSVLogger\n",
    "\n",
    "def main(args): \n",
    "    L.seed_everything(42)\n",
    "\n",
    "    # set up data \n",
    "    datamodule = nih_cxr_datamodule(batch_size=8)\n",
    "    datamodule.prepare_data()\n",
    "    datamodule.setup()\n",
    "\n",
    "    train_dataloader = datamodule.train_dataloader()\n",
    "    valid_dataloader = datamodule.valid_dataloader()\n",
    "    test_dataloader = datamodule.test_dataloader()\n",
    "\n",
    "    # setup model \n",
    "    model = VisionTransformerPretrained('google/vit-base-patch16-224', datamodule.num_classes, learning_rate= 1e-4)\n",
    "\n",
    "    early_stopping = EarlyStopping(monitor = 'valid_acc', patience = 6, mode = 'max')\n",
    "\n",
    "    logger = CSVLogger(\"tensorboard_logs\", name = 'nih_cxr_pretrained_vit')\n",
    "\n",
    "    #train \n",
    "    trainer = L.Trainer(devices = 1, max_epochs = 20, callbacks = [early_stopping], logger =logger)\n",
    "    trainer.fit(model = model, train_dataloaders=train_dataloader, val_dataloaders = valid_dataloader)\n",
    "\n",
    "    predictions = trainer.predict(model, dataloaders=test_dataloader)\n",
    "\n",
    "\n"
   ]
  },
  {
   "cell_type": "code",
   "execution_count": 137,
   "metadata": {},
   "outputs": [
    {
     "name": "stderr",
     "output_type": "stream",
     "text": [
      "Seed set to 42\n",
      "Some weights of ViTForImageClassification were not initialized from the model checkpoint at google/vit-base-patch16-224 and are newly initialized because the shapes did not match:\n",
      "- classifier.bias: found shape torch.Size([1000]) in the checkpoint and torch.Size([15]) in the model instantiated\n",
      "- classifier.weight: found shape torch.Size([1000, 768]) in the checkpoint and torch.Size([15, 768]) in the model instantiated\n",
      "You should probably TRAIN this model on a down-stream task to be able to use it for predictions and inference.\n",
      "GPU available: True (mps), used: True\n",
      "TPU available: False, using: 0 TPU cores\n",
      "HPU available: False, using: 0 HPUs\n",
      "\n",
      "  | Name      | Type                      | Params | Mode \n",
      "----------------------------------------------------------------\n",
      "0 | backbone  | ViTForImageClassification | 85.8 M | eval \n",
      "1 | loss_fn   | BCEWithLogitsLoss         | 0      | train\n",
      "2 | acc       | MultilabelAccuracy        | 0      | train\n",
      "3 | f1        | MultilabelF1Score         | 0      | train\n",
      "4 | precision | MultilabelPrecision       | 0      | train\n",
      "5 | recall    | MultilabelRecall          | 0      | train\n",
      "6 | accuracy  | MultilabelAccuracy        | 0      | train\n",
      "----------------------------------------------------------------\n",
      "85.8 M    Trainable params\n",
      "0         Non-trainable params\n",
      "85.8 M    Total params\n",
      "343.241   Total estimated model params size (MB)\n",
      "6         Modules in train mode\n",
      "226       Modules in eval mode\n"
     ]
    },
    {
     "data": {
      "application/vnd.jupyter.widget-view+json": {
       "model_id": "efdfd01310b145fdb4b0ce192b24a941",
       "version_major": 2,
       "version_minor": 0
      },
      "text/plain": [
       "Sanity Checking: |          | 0/? [00:00<?, ?it/s]"
      ]
     },
     "metadata": {},
     "output_type": "display_data"
    },
    {
     "data": {
      "application/vnd.jupyter.widget-view+json": {
       "model_id": "9e473206a9904c6e8d15f5bceee3f9c3",
       "version_major": 2,
       "version_minor": 0
      },
      "text/plain": [
       "Training: |          | 0/? [00:00<?, ?it/s]"
      ]
     },
     "metadata": {},
     "output_type": "display_data"
    },
    {
     "data": {
      "application/vnd.jupyter.widget-view+json": {
       "model_id": "e6746b5aec1c4882a8f5c395f6534d68",
       "version_major": 2,
       "version_minor": 0
      },
      "text/plain": [
       "Validation: |          | 0/? [00:00<?, ?it/s]"
      ]
     },
     "metadata": {},
     "output_type": "display_data"
    },
    {
     "data": {
      "application/vnd.jupyter.widget-view+json": {
       "model_id": "0754f420d6fd49a29fa645abf54fccdb",
       "version_major": 2,
       "version_minor": 0
      },
      "text/plain": [
       "Validation: |          | 0/? [00:00<?, ?it/s]"
      ]
     },
     "metadata": {},
     "output_type": "display_data"
    },
    {
     "data": {
      "application/vnd.jupyter.widget-view+json": {
       "model_id": "671042066f9d459e9a53e6bf29961daa",
       "version_major": 2,
       "version_minor": 0
      },
      "text/plain": [
       "Validation: |          | 0/? [00:00<?, ?it/s]"
      ]
     },
     "metadata": {},
     "output_type": "display_data"
    },
    {
     "data": {
      "application/vnd.jupyter.widget-view+json": {
       "model_id": "bb01c8909fb842d5adb90b35083860cd",
       "version_major": 2,
       "version_minor": 0
      },
      "text/plain": [
       "Validation: |          | 0/? [00:00<?, ?it/s]"
      ]
     },
     "metadata": {},
     "output_type": "display_data"
    },
    {
     "data": {
      "application/vnd.jupyter.widget-view+json": {
       "model_id": "a5d247f3a1f14f32b3940b276b325810",
       "version_major": 2,
       "version_minor": 0
      },
      "text/plain": [
       "Validation: |          | 0/? [00:00<?, ?it/s]"
      ]
     },
     "metadata": {},
     "output_type": "display_data"
    },
    {
     "data": {
      "application/vnd.jupyter.widget-view+json": {
       "model_id": "02c49651df3a46bbb4fbdb712d67b7aa",
       "version_major": 2,
       "version_minor": 0
      },
      "text/plain": [
       "Validation: |          | 0/? [00:00<?, ?it/s]"
      ]
     },
     "metadata": {},
     "output_type": "display_data"
    },
    {
     "data": {
      "application/vnd.jupyter.widget-view+json": {
       "model_id": "f7f05385900847d4bac0080a8e3b372f",
       "version_major": 2,
       "version_minor": 0
      },
      "text/plain": [
       "Validation: |          | 0/? [00:00<?, ?it/s]"
      ]
     },
     "metadata": {},
     "output_type": "display_data"
    },
    {
     "data": {
      "application/vnd.jupyter.widget-view+json": {
       "model_id": "42fcd7106f2e4f8b910c4a44fc8a235c",
       "version_major": 2,
       "version_minor": 0
      },
      "text/plain": [
       "Validation: |          | 0/? [00:00<?, ?it/s]"
      ]
     },
     "metadata": {},
     "output_type": "display_data"
    },
    {
     "name": "stderr",
     "output_type": "stream",
     "text": [
      "/Users/oliverfox/venvs/ml_venv/lib/python3.10/site-packages/lightning/pytorch/trainer/connectors/data_connector.py:425: The 'test_dataloader' does not have many workers which may be a bottleneck. Consider increasing the value of the `num_workers` argument` to `num_workers=13` in the `DataLoader` to improve performance.\n"
     ]
    },
    {
     "data": {
      "application/vnd.jupyter.widget-view+json": {
       "model_id": "833c67547c0247b983d0ef3382d690bf",
       "version_major": 2,
       "version_minor": 0
      },
      "text/plain": [
       "Testing: |          | 0/? [00:00<?, ?it/s]"
      ]
     },
     "metadata": {},
     "output_type": "display_data"
    },
    {
     "data": {
      "text/html": [
       "<pre style=\"white-space:pre;overflow-x:auto;line-height:normal;font-family:Menlo,'DejaVu Sans Mono',consolas,'Courier New',monospace\">┏━━━━━━━━━━━━━━━━━━━━━━━━━━━┳━━━━━━━━━━━━━━━━━━━━━━━━━━━┓\n",
       "┃<span style=\"font-weight: bold\">        Test metric        </span>┃<span style=\"font-weight: bold\">       DataLoader 0        </span>┃\n",
       "┡━━━━━━━━━━━━━━━━━━━━━━━━━━━╇━━━━━━━━━━━━━━━━━━━━━━━━━━━┩\n",
       "│<span style=\"color: #008080; text-decoration-color: #008080\">   test_accuracy_label_0   </span>│<span style=\"color: #800080; text-decoration-color: #800080\">    0.6399999856948853     </span>│\n",
       "│<span style=\"color: #008080; text-decoration-color: #008080\">   test_accuracy_label_1   </span>│<span style=\"color: #800080; text-decoration-color: #800080\">    0.8679999709129333     </span>│\n",
       "│<span style=\"color: #008080; text-decoration-color: #008080\">  test_accuracy_label_10   </span>│<span style=\"color: #800080; text-decoration-color: #800080\">    0.9440000057220459     </span>│\n",
       "│<span style=\"color: #008080; text-decoration-color: #008080\">  test_accuracy_label_11   </span>│<span style=\"color: #800080; text-decoration-color: #800080\">    0.9480000138282776     </span>│\n",
       "│<span style=\"color: #008080; text-decoration-color: #008080\">  test_accuracy_label_12   </span>│<span style=\"color: #800080; text-decoration-color: #800080\">     0.972000002861023     </span>│\n",
       "│<span style=\"color: #008080; text-decoration-color: #008080\">  test_accuracy_label_13   </span>│<span style=\"color: #800080; text-decoration-color: #800080\">    0.9660000205039978     </span>│\n",
       "│<span style=\"color: #008080; text-decoration-color: #008080\">  test_accuracy_label_14   </span>│<span style=\"color: #800080; text-decoration-color: #800080\">     0.972000002861023     </span>│\n",
       "│<span style=\"color: #008080; text-decoration-color: #008080\">   test_accuracy_label_2   </span>│<span style=\"color: #800080; text-decoration-color: #800080\">    0.8460000157356262     </span>│\n",
       "│<span style=\"color: #008080; text-decoration-color: #008080\">   test_accuracy_label_3   </span>│<span style=\"color: #800080; text-decoration-color: #800080\">    0.7559999823570251     </span>│\n",
       "│<span style=\"color: #008080; text-decoration-color: #008080\">   test_accuracy_label_4   </span>│<span style=\"color: #800080; text-decoration-color: #800080\">    0.7059999704360962     </span>│\n",
       "│<span style=\"color: #008080; text-decoration-color: #008080\">   test_accuracy_label_5   </span>│<span style=\"color: #800080; text-decoration-color: #800080\">    0.9660000205039978     </span>│\n",
       "│<span style=\"color: #008080; text-decoration-color: #008080\">   test_accuracy_label_6   </span>│<span style=\"color: #800080; text-decoration-color: #800080\">     0.972000002861023     </span>│\n",
       "│<span style=\"color: #008080; text-decoration-color: #008080\">   test_accuracy_label_7   </span>│<span style=\"color: #800080; text-decoration-color: #800080\">    0.9779999852180481     </span>│\n",
       "│<span style=\"color: #008080; text-decoration-color: #008080\">   test_accuracy_label_8   </span>│<span style=\"color: #800080; text-decoration-color: #800080\">    0.9079999923706055     </span>│\n",
       "│<span style=\"color: #008080; text-decoration-color: #008080\">   test_accuracy_label_9   </span>│<span style=\"color: #800080; text-decoration-color: #800080\">     0.921999990940094     </span>│\n",
       "│<span style=\"color: #008080; text-decoration-color: #008080\">      test_f1_label_0      </span>│<span style=\"color: #800080; text-decoration-color: #800080\">    0.14255474507808685    </span>│\n",
       "│<span style=\"color: #008080; text-decoration-color: #008080\">      test_f1_label_1      </span>│<span style=\"color: #800080; text-decoration-color: #800080\">  -1.8422840635164886e+28  </span>│\n",
       "│<span style=\"color: #008080; text-decoration-color: #008080\">     test_f1_label_10      </span>│<span style=\"color: #800080; text-decoration-color: #800080\">   3.152586461076934e+32   </span>│\n",
       "│<span style=\"color: #008080; text-decoration-color: #008080\">     test_f1_label_11      </span>│<span style=\"color: #800080; text-decoration-color: #800080\">  -1.8422840635164886e+28  </span>│\n",
       "│<span style=\"color: #008080; text-decoration-color: #008080\">     test_f1_label_12      </span>│<span style=\"color: #800080; text-decoration-color: #800080\">   3.152586461076934e+32   </span>│\n",
       "│<span style=\"color: #008080; text-decoration-color: #008080\">     test_f1_label_13      </span>│<span style=\"color: #800080; text-decoration-color: #800080\">  3.1527706046577777e+32   </span>│\n",
       "│<span style=\"color: #008080; text-decoration-color: #008080\">     test_f1_label_14      </span>│<span style=\"color: #800080; text-decoration-color: #800080\">   3.152586461076934e+32   </span>│\n",
       "│<span style=\"color: #008080; text-decoration-color: #008080\">      test_f1_label_2      </span>│<span style=\"color: #800080; text-decoration-color: #800080\">   3.152586461076934e+32   </span>│\n",
       "│<span style=\"color: #008080; text-decoration-color: #008080\">      test_f1_label_3      </span>│<span style=\"color: #800080; text-decoration-color: #800080\">  3.1527706046577777e+32   </span>│\n",
       "│<span style=\"color: #008080; text-decoration-color: #008080\">      test_f1_label_4      </span>│<span style=\"color: #800080; text-decoration-color: #800080\">  -1.8422840635164886e+28  </span>│\n",
       "│<span style=\"color: #008080; text-decoration-color: #008080\">      test_f1_label_5      </span>│<span style=\"color: #800080; text-decoration-color: #800080\">   3.152586461076934e+32   </span>│\n",
       "│<span style=\"color: #008080; text-decoration-color: #008080\">      test_f1_label_6      </span>│<span style=\"color: #800080; text-decoration-color: #800080\">   3.152586461076934e+32   </span>│\n",
       "│<span style=\"color: #008080; text-decoration-color: #008080\">      test_f1_label_7      </span>│<span style=\"color: #800080; text-decoration-color: #800080\">  3.1527706046577777e+32   </span>│\n",
       "│<span style=\"color: #008080; text-decoration-color: #008080\">      test_f1_label_8      </span>│<span style=\"color: #800080; text-decoration-color: #800080\">   0.0003409234923310578   </span>│\n",
       "│<span style=\"color: #008080; text-decoration-color: #008080\">      test_f1_label_9      </span>│<span style=\"color: #800080; text-decoration-color: #800080\">   3.152586461076934e+32   </span>│\n",
       "│<span style=\"color: #008080; text-decoration-color: #008080\">  test_precision_label_0   </span>│<span style=\"color: #800080; text-decoration-color: #800080\">  -1.8422840635164886e+28  </span>│\n",
       "│<span style=\"color: #008080; text-decoration-color: #008080\">  test_precision_label_1   </span>│<span style=\"color: #800080; text-decoration-color: #800080\">  -3.684510278043562e+28   </span>│\n",
       "│<span style=\"color: #008080; text-decoration-color: #008080\">  test_precision_label_10  </span>│<span style=\"color: #800080; text-decoration-color: #800080\">  -3.684510278043562e+28   </span>│\n",
       "│<span style=\"color: #008080; text-decoration-color: #008080\">  test_precision_label_11  </span>│<span style=\"color: #800080; text-decoration-color: #800080\">  -3.684510278043562e+28   </span>│\n",
       "│<span style=\"color: #008080; text-decoration-color: #008080\">  test_precision_label_12  </span>│<span style=\"color: #800080; text-decoration-color: #800080\">  -3.684510278043562e+28   </span>│\n",
       "│<span style=\"color: #008080; text-decoration-color: #008080\">  test_precision_label_13  </span>│<span style=\"color: #800080; text-decoration-color: #800080\">  -3.684510278043562e+28   </span>│\n",
       "│<span style=\"color: #008080; text-decoration-color: #008080\">  test_precision_label_14  </span>│<span style=\"color: #800080; text-decoration-color: #800080\">  -3.684510278043562e+28   </span>│\n",
       "│<span style=\"color: #008080; text-decoration-color: #008080\">  test_precision_label_2   </span>│<span style=\"color: #800080; text-decoration-color: #800080\">  -3.684510278043562e+28   </span>│\n",
       "│<span style=\"color: #008080; text-decoration-color: #008080\">  test_precision_label_3   </span>│<span style=\"color: #800080; text-decoration-color: #800080\">  -3.684510278043562e+28   </span>│\n",
       "│<span style=\"color: #008080; text-decoration-color: #008080\">  test_precision_label_4   </span>│<span style=\"color: #800080; text-decoration-color: #800080\">  -3.684510278043562e+28   </span>│\n",
       "│<span style=\"color: #008080; text-decoration-color: #008080\">  test_precision_label_5   </span>│<span style=\"color: #800080; text-decoration-color: #800080\">  -3.684510278043562e+28   </span>│\n",
       "│<span style=\"color: #008080; text-decoration-color: #008080\">  test_precision_label_6   </span>│<span style=\"color: #800080; text-decoration-color: #800080\">  -1.8422840635164886e+28  </span>│\n",
       "│<span style=\"color: #008080; text-decoration-color: #008080\">  test_precision_label_7   </span>│<span style=\"color: #800080; text-decoration-color: #800080\">  -3.684510278043562e+28   </span>│\n",
       "│<span style=\"color: #008080; text-decoration-color: #008080\">  test_precision_label_8   </span>│<span style=\"color: #800080; text-decoration-color: #800080\">  -3.684510278043562e+28   </span>│\n",
       "│<span style=\"color: #008080; text-decoration-color: #008080\">  test_precision_label_9   </span>│<span style=\"color: #800080; text-decoration-color: #800080\">  -3.684510278043562e+28   </span>│\n",
       "│<span style=\"color: #008080; text-decoration-color: #008080\">    test_recall_label_0    </span>│<span style=\"color: #800080; text-decoration-color: #800080\">     0.143390491604805     </span>│\n",
       "│<span style=\"color: #008080; text-decoration-color: #008080\">    test_recall_label_1    </span>│<span style=\"color: #800080; text-decoration-color: #800080\">  2.2143408733272005e+32   </span>│\n",
       "│<span style=\"color: #008080; text-decoration-color: #008080\">   test_recall_label_10    </span>│<span style=\"color: #800080; text-decoration-color: #800080\">   2.212596731868726e+32   </span>│\n",
       "│<span style=\"color: #008080; text-decoration-color: #008080\">   test_recall_label_11    </span>│<span style=\"color: #800080; text-decoration-color: #800080\">   2.212596731868726e+32   </span>│\n",
       "│<span style=\"color: #008080; text-decoration-color: #008080\">   test_recall_label_12    </span>│<span style=\"color: #800080; text-decoration-color: #800080\">  -1.7417294625696273e+29  </span>│\n",
       "│<span style=\"color: #008080; text-decoration-color: #008080\">   test_recall_label_13    </span>│<span style=\"color: #800080; text-decoration-color: #800080\">  -1.8183895974681406e+28  </span>│\n",
       "│<span style=\"color: #008080; text-decoration-color: #008080\">   test_recall_label_14    </span>│<span style=\"color: #800080; text-decoration-color: #800080\">   2.212596731868726e+32   </span>│\n",
       "│<span style=\"color: #008080; text-decoration-color: #008080\">    test_recall_label_2    </span>│<span style=\"color: #800080; text-decoration-color: #800080\">  -1.557500973576565e+29   </span>│\n",
       "│<span style=\"color: #008080; text-decoration-color: #008080\">    test_recall_label_3    </span>│<span style=\"color: #800080; text-decoration-color: #800080\">  -1.557500973576565e+29   </span>│\n",
       "│<span style=\"color: #008080; text-decoration-color: #008080\">    test_recall_label_4    </span>│<span style=\"color: #800080; text-decoration-color: #800080\">   0.026143992319703102    </span>│\n",
       "│<span style=\"color: #008080; text-decoration-color: #008080\">    test_recall_label_5    </span>│<span style=\"color: #800080; text-decoration-color: #800080\">  -1.7417294625696273e+29  </span>│\n",
       "│<span style=\"color: #008080; text-decoration-color: #008080\">    test_recall_label_6    </span>│<span style=\"color: #800080; text-decoration-color: #800080\">   2.212596731868726e+32   </span>│\n",
       "│<span style=\"color: #008080; text-decoration-color: #008080\">    test_recall_label_7    </span>│<span style=\"color: #800080; text-decoration-color: #800080\">   2.212596731868726e+32   </span>│\n",
       "│<span style=\"color: #008080; text-decoration-color: #008080\">    test_recall_label_8    </span>│<span style=\"color: #800080; text-decoration-color: #800080\">   2.212596731868726e+32   </span>│\n",
       "│<span style=\"color: #008080; text-decoration-color: #008080\">    test_recall_label_9    </span>│<span style=\"color: #800080; text-decoration-color: #800080\">   2.212778554311996e+32   </span>│\n",
       "└───────────────────────────┴───────────────────────────┘\n",
       "</pre>\n"
      ],
      "text/plain": [
       "┏━━━━━━━━━━━━━━━━━━━━━━━━━━━┳━━━━━━━━━━━━━━━━━━━━━━━━━━━┓\n",
       "┃\u001b[1m \u001b[0m\u001b[1m       Test metric       \u001b[0m\u001b[1m \u001b[0m┃\u001b[1m \u001b[0m\u001b[1m      DataLoader 0       \u001b[0m\u001b[1m \u001b[0m┃\n",
       "┡━━━━━━━━━━━━━━━━━━━━━━━━━━━╇━━━━━━━━━━━━━━━━━━━━━━━━━━━┩\n",
       "│\u001b[36m \u001b[0m\u001b[36m  test_accuracy_label_0  \u001b[0m\u001b[36m \u001b[0m│\u001b[35m \u001b[0m\u001b[35m   0.6399999856948853    \u001b[0m\u001b[35m \u001b[0m│\n",
       "│\u001b[36m \u001b[0m\u001b[36m  test_accuracy_label_1  \u001b[0m\u001b[36m \u001b[0m│\u001b[35m \u001b[0m\u001b[35m   0.8679999709129333    \u001b[0m\u001b[35m \u001b[0m│\n",
       "│\u001b[36m \u001b[0m\u001b[36m test_accuracy_label_10  \u001b[0m\u001b[36m \u001b[0m│\u001b[35m \u001b[0m\u001b[35m   0.9440000057220459    \u001b[0m\u001b[35m \u001b[0m│\n",
       "│\u001b[36m \u001b[0m\u001b[36m test_accuracy_label_11  \u001b[0m\u001b[36m \u001b[0m│\u001b[35m \u001b[0m\u001b[35m   0.9480000138282776    \u001b[0m\u001b[35m \u001b[0m│\n",
       "│\u001b[36m \u001b[0m\u001b[36m test_accuracy_label_12  \u001b[0m\u001b[36m \u001b[0m│\u001b[35m \u001b[0m\u001b[35m    0.972000002861023    \u001b[0m\u001b[35m \u001b[0m│\n",
       "│\u001b[36m \u001b[0m\u001b[36m test_accuracy_label_13  \u001b[0m\u001b[36m \u001b[0m│\u001b[35m \u001b[0m\u001b[35m   0.9660000205039978    \u001b[0m\u001b[35m \u001b[0m│\n",
       "│\u001b[36m \u001b[0m\u001b[36m test_accuracy_label_14  \u001b[0m\u001b[36m \u001b[0m│\u001b[35m \u001b[0m\u001b[35m    0.972000002861023    \u001b[0m\u001b[35m \u001b[0m│\n",
       "│\u001b[36m \u001b[0m\u001b[36m  test_accuracy_label_2  \u001b[0m\u001b[36m \u001b[0m│\u001b[35m \u001b[0m\u001b[35m   0.8460000157356262    \u001b[0m\u001b[35m \u001b[0m│\n",
       "│\u001b[36m \u001b[0m\u001b[36m  test_accuracy_label_3  \u001b[0m\u001b[36m \u001b[0m│\u001b[35m \u001b[0m\u001b[35m   0.7559999823570251    \u001b[0m\u001b[35m \u001b[0m│\n",
       "│\u001b[36m \u001b[0m\u001b[36m  test_accuracy_label_4  \u001b[0m\u001b[36m \u001b[0m│\u001b[35m \u001b[0m\u001b[35m   0.7059999704360962    \u001b[0m\u001b[35m \u001b[0m│\n",
       "│\u001b[36m \u001b[0m\u001b[36m  test_accuracy_label_5  \u001b[0m\u001b[36m \u001b[0m│\u001b[35m \u001b[0m\u001b[35m   0.9660000205039978    \u001b[0m\u001b[35m \u001b[0m│\n",
       "│\u001b[36m \u001b[0m\u001b[36m  test_accuracy_label_6  \u001b[0m\u001b[36m \u001b[0m│\u001b[35m \u001b[0m\u001b[35m    0.972000002861023    \u001b[0m\u001b[35m \u001b[0m│\n",
       "│\u001b[36m \u001b[0m\u001b[36m  test_accuracy_label_7  \u001b[0m\u001b[36m \u001b[0m│\u001b[35m \u001b[0m\u001b[35m   0.9779999852180481    \u001b[0m\u001b[35m \u001b[0m│\n",
       "│\u001b[36m \u001b[0m\u001b[36m  test_accuracy_label_8  \u001b[0m\u001b[36m \u001b[0m│\u001b[35m \u001b[0m\u001b[35m   0.9079999923706055    \u001b[0m\u001b[35m \u001b[0m│\n",
       "│\u001b[36m \u001b[0m\u001b[36m  test_accuracy_label_9  \u001b[0m\u001b[36m \u001b[0m│\u001b[35m \u001b[0m\u001b[35m    0.921999990940094    \u001b[0m\u001b[35m \u001b[0m│\n",
       "│\u001b[36m \u001b[0m\u001b[36m     test_f1_label_0     \u001b[0m\u001b[36m \u001b[0m│\u001b[35m \u001b[0m\u001b[35m   0.14255474507808685   \u001b[0m\u001b[35m \u001b[0m│\n",
       "│\u001b[36m \u001b[0m\u001b[36m     test_f1_label_1     \u001b[0m\u001b[36m \u001b[0m│\u001b[35m \u001b[0m\u001b[35m -1.8422840635164886e+28 \u001b[0m\u001b[35m \u001b[0m│\n",
       "│\u001b[36m \u001b[0m\u001b[36m    test_f1_label_10     \u001b[0m\u001b[36m \u001b[0m│\u001b[35m \u001b[0m\u001b[35m  3.152586461076934e+32  \u001b[0m\u001b[35m \u001b[0m│\n",
       "│\u001b[36m \u001b[0m\u001b[36m    test_f1_label_11     \u001b[0m\u001b[36m \u001b[0m│\u001b[35m \u001b[0m\u001b[35m -1.8422840635164886e+28 \u001b[0m\u001b[35m \u001b[0m│\n",
       "│\u001b[36m \u001b[0m\u001b[36m    test_f1_label_12     \u001b[0m\u001b[36m \u001b[0m│\u001b[35m \u001b[0m\u001b[35m  3.152586461076934e+32  \u001b[0m\u001b[35m \u001b[0m│\n",
       "│\u001b[36m \u001b[0m\u001b[36m    test_f1_label_13     \u001b[0m\u001b[36m \u001b[0m│\u001b[35m \u001b[0m\u001b[35m 3.1527706046577777e+32  \u001b[0m\u001b[35m \u001b[0m│\n",
       "│\u001b[36m \u001b[0m\u001b[36m    test_f1_label_14     \u001b[0m\u001b[36m \u001b[0m│\u001b[35m \u001b[0m\u001b[35m  3.152586461076934e+32  \u001b[0m\u001b[35m \u001b[0m│\n",
       "│\u001b[36m \u001b[0m\u001b[36m     test_f1_label_2     \u001b[0m\u001b[36m \u001b[0m│\u001b[35m \u001b[0m\u001b[35m  3.152586461076934e+32  \u001b[0m\u001b[35m \u001b[0m│\n",
       "│\u001b[36m \u001b[0m\u001b[36m     test_f1_label_3     \u001b[0m\u001b[36m \u001b[0m│\u001b[35m \u001b[0m\u001b[35m 3.1527706046577777e+32  \u001b[0m\u001b[35m \u001b[0m│\n",
       "│\u001b[36m \u001b[0m\u001b[36m     test_f1_label_4     \u001b[0m\u001b[36m \u001b[0m│\u001b[35m \u001b[0m\u001b[35m -1.8422840635164886e+28 \u001b[0m\u001b[35m \u001b[0m│\n",
       "│\u001b[36m \u001b[0m\u001b[36m     test_f1_label_5     \u001b[0m\u001b[36m \u001b[0m│\u001b[35m \u001b[0m\u001b[35m  3.152586461076934e+32  \u001b[0m\u001b[35m \u001b[0m│\n",
       "│\u001b[36m \u001b[0m\u001b[36m     test_f1_label_6     \u001b[0m\u001b[36m \u001b[0m│\u001b[35m \u001b[0m\u001b[35m  3.152586461076934e+32  \u001b[0m\u001b[35m \u001b[0m│\n",
       "│\u001b[36m \u001b[0m\u001b[36m     test_f1_label_7     \u001b[0m\u001b[36m \u001b[0m│\u001b[35m \u001b[0m\u001b[35m 3.1527706046577777e+32  \u001b[0m\u001b[35m \u001b[0m│\n",
       "│\u001b[36m \u001b[0m\u001b[36m     test_f1_label_8     \u001b[0m\u001b[36m \u001b[0m│\u001b[35m \u001b[0m\u001b[35m  0.0003409234923310578  \u001b[0m\u001b[35m \u001b[0m│\n",
       "│\u001b[36m \u001b[0m\u001b[36m     test_f1_label_9     \u001b[0m\u001b[36m \u001b[0m│\u001b[35m \u001b[0m\u001b[35m  3.152586461076934e+32  \u001b[0m\u001b[35m \u001b[0m│\n",
       "│\u001b[36m \u001b[0m\u001b[36m test_precision_label_0  \u001b[0m\u001b[36m \u001b[0m│\u001b[35m \u001b[0m\u001b[35m -1.8422840635164886e+28 \u001b[0m\u001b[35m \u001b[0m│\n",
       "│\u001b[36m \u001b[0m\u001b[36m test_precision_label_1  \u001b[0m\u001b[36m \u001b[0m│\u001b[35m \u001b[0m\u001b[35m -3.684510278043562e+28  \u001b[0m\u001b[35m \u001b[0m│\n",
       "│\u001b[36m \u001b[0m\u001b[36m test_precision_label_10 \u001b[0m\u001b[36m \u001b[0m│\u001b[35m \u001b[0m\u001b[35m -3.684510278043562e+28  \u001b[0m\u001b[35m \u001b[0m│\n",
       "│\u001b[36m \u001b[0m\u001b[36m test_precision_label_11 \u001b[0m\u001b[36m \u001b[0m│\u001b[35m \u001b[0m\u001b[35m -3.684510278043562e+28  \u001b[0m\u001b[35m \u001b[0m│\n",
       "│\u001b[36m \u001b[0m\u001b[36m test_precision_label_12 \u001b[0m\u001b[36m \u001b[0m│\u001b[35m \u001b[0m\u001b[35m -3.684510278043562e+28  \u001b[0m\u001b[35m \u001b[0m│\n",
       "│\u001b[36m \u001b[0m\u001b[36m test_precision_label_13 \u001b[0m\u001b[36m \u001b[0m│\u001b[35m \u001b[0m\u001b[35m -3.684510278043562e+28  \u001b[0m\u001b[35m \u001b[0m│\n",
       "│\u001b[36m \u001b[0m\u001b[36m test_precision_label_14 \u001b[0m\u001b[36m \u001b[0m│\u001b[35m \u001b[0m\u001b[35m -3.684510278043562e+28  \u001b[0m\u001b[35m \u001b[0m│\n",
       "│\u001b[36m \u001b[0m\u001b[36m test_precision_label_2  \u001b[0m\u001b[36m \u001b[0m│\u001b[35m \u001b[0m\u001b[35m -3.684510278043562e+28  \u001b[0m\u001b[35m \u001b[0m│\n",
       "│\u001b[36m \u001b[0m\u001b[36m test_precision_label_3  \u001b[0m\u001b[36m \u001b[0m│\u001b[35m \u001b[0m\u001b[35m -3.684510278043562e+28  \u001b[0m\u001b[35m \u001b[0m│\n",
       "│\u001b[36m \u001b[0m\u001b[36m test_precision_label_4  \u001b[0m\u001b[36m \u001b[0m│\u001b[35m \u001b[0m\u001b[35m -3.684510278043562e+28  \u001b[0m\u001b[35m \u001b[0m│\n",
       "│\u001b[36m \u001b[0m\u001b[36m test_precision_label_5  \u001b[0m\u001b[36m \u001b[0m│\u001b[35m \u001b[0m\u001b[35m -3.684510278043562e+28  \u001b[0m\u001b[35m \u001b[0m│\n",
       "│\u001b[36m \u001b[0m\u001b[36m test_precision_label_6  \u001b[0m\u001b[36m \u001b[0m│\u001b[35m \u001b[0m\u001b[35m -1.8422840635164886e+28 \u001b[0m\u001b[35m \u001b[0m│\n",
       "│\u001b[36m \u001b[0m\u001b[36m test_precision_label_7  \u001b[0m\u001b[36m \u001b[0m│\u001b[35m \u001b[0m\u001b[35m -3.684510278043562e+28  \u001b[0m\u001b[35m \u001b[0m│\n",
       "│\u001b[36m \u001b[0m\u001b[36m test_precision_label_8  \u001b[0m\u001b[36m \u001b[0m│\u001b[35m \u001b[0m\u001b[35m -3.684510278043562e+28  \u001b[0m\u001b[35m \u001b[0m│\n",
       "│\u001b[36m \u001b[0m\u001b[36m test_precision_label_9  \u001b[0m\u001b[36m \u001b[0m│\u001b[35m \u001b[0m\u001b[35m -3.684510278043562e+28  \u001b[0m\u001b[35m \u001b[0m│\n",
       "│\u001b[36m \u001b[0m\u001b[36m   test_recall_label_0   \u001b[0m\u001b[36m \u001b[0m│\u001b[35m \u001b[0m\u001b[35m    0.143390491604805    \u001b[0m\u001b[35m \u001b[0m│\n",
       "│\u001b[36m \u001b[0m\u001b[36m   test_recall_label_1   \u001b[0m\u001b[36m \u001b[0m│\u001b[35m \u001b[0m\u001b[35m 2.2143408733272005e+32  \u001b[0m\u001b[35m \u001b[0m│\n",
       "│\u001b[36m \u001b[0m\u001b[36m  test_recall_label_10   \u001b[0m\u001b[36m \u001b[0m│\u001b[35m \u001b[0m\u001b[35m  2.212596731868726e+32  \u001b[0m\u001b[35m \u001b[0m│\n",
       "│\u001b[36m \u001b[0m\u001b[36m  test_recall_label_11   \u001b[0m\u001b[36m \u001b[0m│\u001b[35m \u001b[0m\u001b[35m  2.212596731868726e+32  \u001b[0m\u001b[35m \u001b[0m│\n",
       "│\u001b[36m \u001b[0m\u001b[36m  test_recall_label_12   \u001b[0m\u001b[36m \u001b[0m│\u001b[35m \u001b[0m\u001b[35m -1.7417294625696273e+29 \u001b[0m\u001b[35m \u001b[0m│\n",
       "│\u001b[36m \u001b[0m\u001b[36m  test_recall_label_13   \u001b[0m\u001b[36m \u001b[0m│\u001b[35m \u001b[0m\u001b[35m -1.8183895974681406e+28 \u001b[0m\u001b[35m \u001b[0m│\n",
       "│\u001b[36m \u001b[0m\u001b[36m  test_recall_label_14   \u001b[0m\u001b[36m \u001b[0m│\u001b[35m \u001b[0m\u001b[35m  2.212596731868726e+32  \u001b[0m\u001b[35m \u001b[0m│\n",
       "│\u001b[36m \u001b[0m\u001b[36m   test_recall_label_2   \u001b[0m\u001b[36m \u001b[0m│\u001b[35m \u001b[0m\u001b[35m -1.557500973576565e+29  \u001b[0m\u001b[35m \u001b[0m│\n",
       "│\u001b[36m \u001b[0m\u001b[36m   test_recall_label_3   \u001b[0m\u001b[36m \u001b[0m│\u001b[35m \u001b[0m\u001b[35m -1.557500973576565e+29  \u001b[0m\u001b[35m \u001b[0m│\n",
       "│\u001b[36m \u001b[0m\u001b[36m   test_recall_label_4   \u001b[0m\u001b[36m \u001b[0m│\u001b[35m \u001b[0m\u001b[35m  0.026143992319703102   \u001b[0m\u001b[35m \u001b[0m│\n",
       "│\u001b[36m \u001b[0m\u001b[36m   test_recall_label_5   \u001b[0m\u001b[36m \u001b[0m│\u001b[35m \u001b[0m\u001b[35m -1.7417294625696273e+29 \u001b[0m\u001b[35m \u001b[0m│\n",
       "│\u001b[36m \u001b[0m\u001b[36m   test_recall_label_6   \u001b[0m\u001b[36m \u001b[0m│\u001b[35m \u001b[0m\u001b[35m  2.212596731868726e+32  \u001b[0m\u001b[35m \u001b[0m│\n",
       "│\u001b[36m \u001b[0m\u001b[36m   test_recall_label_7   \u001b[0m\u001b[36m \u001b[0m│\u001b[35m \u001b[0m\u001b[35m  2.212596731868726e+32  \u001b[0m\u001b[35m \u001b[0m│\n",
       "│\u001b[36m \u001b[0m\u001b[36m   test_recall_label_8   \u001b[0m\u001b[36m \u001b[0m│\u001b[35m \u001b[0m\u001b[35m  2.212596731868726e+32  \u001b[0m\u001b[35m \u001b[0m│\n",
       "│\u001b[36m \u001b[0m\u001b[36m   test_recall_label_9   \u001b[0m\u001b[36m \u001b[0m│\u001b[35m \u001b[0m\u001b[35m  2.212778554311996e+32  \u001b[0m\u001b[35m \u001b[0m│\n",
       "└───────────────────────────┴───────────────────────────┘\n"
      ]
     },
     "metadata": {},
     "output_type": "display_data"
    }
   ],
   "source": [
    "args = \"arg\"\n",
    "run = main(args)"
   ]
  },
  {
   "cell_type": "code",
   "execution_count": null,
   "metadata": {},
   "outputs": [],
   "source": []
  }
 ],
 "metadata": {
  "kernelspec": {
   "display_name": "ml_venv",
   "language": "python",
   "name": "python3"
  },
  "language_info": {
   "codemirror_mode": {
    "name": "ipython",
    "version": 3
   },
   "file_extension": ".py",
   "mimetype": "text/x-python",
   "name": "python",
   "nbconvert_exporter": "python",
   "pygments_lexer": "ipython3",
   "version": "3.10.5"
  }
 },
 "nbformat": 4,
 "nbformat_minor": 2
}
